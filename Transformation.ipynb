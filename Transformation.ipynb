{
 "cells": [
  {
   "cell_type": "code",
   "execution_count": 14,
   "metadata": {},
   "outputs": [],
   "source": [
    "from pathlib import Path\n",
    "import pandas as pd"
   ]
  },
  {
   "cell_type": "code",
   "execution_count": 15,
   "metadata": {},
   "outputs": [],
   "source": [
    "df = pd.read_csv(\"adult_test.csv\", index_col=None)"
   ]
  },
  {
   "cell_type": "code",
   "execution_count": 16,
   "metadata": {},
   "outputs": [
    {
     "data": {
      "text/html": [
       "<div>\n",
       "<style scoped>\n",
       "    .dataframe tbody tr th:only-of-type {\n",
       "        vertical-align: middle;\n",
       "    }\n",
       "\n",
       "    .dataframe tbody tr th {\n",
       "        vertical-align: top;\n",
       "    }\n",
       "\n",
       "    .dataframe thead th {\n",
       "        text-align: right;\n",
       "    }\n",
       "</style>\n",
       "<table border=\"1\" class=\"dataframe\">\n",
       "  <thead>\n",
       "    <tr style=\"text-align: right;\">\n",
       "      <th></th>\n",
       "      <th>Unnamed: 0</th>\n",
       "      <th>age</th>\n",
       "      <th>workclass</th>\n",
       "      <th>fnlwgt</th>\n",
       "      <th>education</th>\n",
       "      <th>education-num</th>\n",
       "      <th>marital-status</th>\n",
       "      <th>occupation</th>\n",
       "      <th>relationship</th>\n",
       "      <th>race</th>\n",
       "      <th>sex</th>\n",
       "      <th>capital-gain</th>\n",
       "      <th>capital-loss</th>\n",
       "      <th>hours-per-week</th>\n",
       "      <th>native-country</th>\n",
       "      <th>income-per-year</th>\n",
       "    </tr>\n",
       "  </thead>\n",
       "  <tbody>\n",
       "    <tr>\n",
       "      <th>0</th>\n",
       "      <td>14214</td>\n",
       "      <td>32</td>\n",
       "      <td>Private</td>\n",
       "      <td>167106</td>\n",
       "      <td>HS-grad</td>\n",
       "      <td>9</td>\n",
       "      <td>Married-civ-spouse</td>\n",
       "      <td>Sales</td>\n",
       "      <td>Husband</td>\n",
       "      <td>Asian-Pac-Islander</td>\n",
       "      <td>Male</td>\n",
       "      <td>0</td>\n",
       "      <td>0</td>\n",
       "      <td>40</td>\n",
       "      <td>Hong</td>\n",
       "      <td>&lt;=50K</td>\n",
       "    </tr>\n",
       "    <tr>\n",
       "      <th>1</th>\n",
       "      <td>23012</td>\n",
       "      <td>64</td>\n",
       "      <td>Self-emp-inc</td>\n",
       "      <td>307786</td>\n",
       "      <td>1st-4th</td>\n",
       "      <td>2</td>\n",
       "      <td>Married-civ-spouse</td>\n",
       "      <td>Sales</td>\n",
       "      <td>Husband</td>\n",
       "      <td>White</td>\n",
       "      <td>Male</td>\n",
       "      <td>0</td>\n",
       "      <td>0</td>\n",
       "      <td>20</td>\n",
       "      <td>United-States</td>\n",
       "      <td>&lt;=50K</td>\n",
       "    </tr>\n",
       "    <tr>\n",
       "      <th>2</th>\n",
       "      <td>4984</td>\n",
       "      <td>27</td>\n",
       "      <td>Private</td>\n",
       "      <td>194652</td>\n",
       "      <td>HS-grad</td>\n",
       "      <td>9</td>\n",
       "      <td>Never-married</td>\n",
       "      <td>Craft-repair</td>\n",
       "      <td>Own-child</td>\n",
       "      <td>Black</td>\n",
       "      <td>Male</td>\n",
       "      <td>0</td>\n",
       "      <td>0</td>\n",
       "      <td>40</td>\n",
       "      <td>United-States</td>\n",
       "      <td>&lt;=50K</td>\n",
       "    </tr>\n",
       "    <tr>\n",
       "      <th>3</th>\n",
       "      <td>30559</td>\n",
       "      <td>27</td>\n",
       "      <td>Private</td>\n",
       "      <td>141545</td>\n",
       "      <td>HS-grad</td>\n",
       "      <td>9</td>\n",
       "      <td>Married-civ-spouse</td>\n",
       "      <td>Transport-moving</td>\n",
       "      <td>Husband</td>\n",
       "      <td>White</td>\n",
       "      <td>Male</td>\n",
       "      <td>0</td>\n",
       "      <td>1902</td>\n",
       "      <td>45</td>\n",
       "      <td>United-States</td>\n",
       "      <td>&lt;=50K</td>\n",
       "    </tr>\n",
       "    <tr>\n",
       "      <th>4</th>\n",
       "      <td>10130</td>\n",
       "      <td>27</td>\n",
       "      <td>Private</td>\n",
       "      <td>146460</td>\n",
       "      <td>Some-college</td>\n",
       "      <td>10</td>\n",
       "      <td>Never-married</td>\n",
       "      <td>Machine-op-inspct</td>\n",
       "      <td>Not-in-family</td>\n",
       "      <td>White</td>\n",
       "      <td>Female</td>\n",
       "      <td>0</td>\n",
       "      <td>0</td>\n",
       "      <td>40</td>\n",
       "      <td>United-States</td>\n",
       "      <td>&lt;=50K</td>\n",
       "    </tr>\n",
       "  </tbody>\n",
       "</table>\n",
       "</div>"
      ],
      "text/plain": [
       "   Unnamed: 0  age     workclass  fnlwgt     education  education-num  \\\n",
       "0       14214   32       Private  167106       HS-grad              9   \n",
       "1       23012   64  Self-emp-inc  307786       1st-4th              2   \n",
       "2        4984   27       Private  194652       HS-grad              9   \n",
       "3       30559   27       Private  141545       HS-grad              9   \n",
       "4       10130   27       Private  146460  Some-college             10   \n",
       "\n",
       "       marital-status         occupation   relationship                race  \\\n",
       "0  Married-civ-spouse              Sales        Husband  Asian-Pac-Islander   \n",
       "1  Married-civ-spouse              Sales        Husband               White   \n",
       "2       Never-married       Craft-repair      Own-child               Black   \n",
       "3  Married-civ-spouse   Transport-moving        Husband               White   \n",
       "4       Never-married  Machine-op-inspct  Not-in-family               White   \n",
       "\n",
       "      sex  capital-gain  capital-loss  hours-per-week native-country  \\\n",
       "0    Male             0             0              40           Hong   \n",
       "1    Male             0             0              20  United-States   \n",
       "2    Male             0             0              40  United-States   \n",
       "3    Male             0          1902              45  United-States   \n",
       "4  Female             0             0              40  United-States   \n",
       "\n",
       "  income-per-year  \n",
       "0           <=50K  \n",
       "1           <=50K  \n",
       "2           <=50K  \n",
       "3           <=50K  \n",
       "4           <=50K  "
      ]
     },
     "execution_count": 16,
     "metadata": {},
     "output_type": "execute_result"
    }
   ],
   "source": [
    "df.head()"
   ]
  },
  {
   "cell_type": "code",
   "execution_count": 17,
   "metadata": {},
   "outputs": [
    {
     "name": "stdout",
     "output_type": "stream",
     "text": [
      "Unnamed: 0          int64\n",
      "age                 int64\n",
      "workclass          object\n",
      "fnlwgt              int64\n",
      "education          object\n",
      "education-num       int64\n",
      "marital-status     object\n",
      "occupation         object\n",
      "relationship       object\n",
      "race               object\n",
      "sex                object\n",
      "capital-gain        int64\n",
      "capital-loss        int64\n",
      "hours-per-week      int64\n",
      "native-country     object\n",
      "income-per-year    object\n",
      "dtype: object\n"
     ]
    }
   ],
   "source": [
    "print(df.dtypes)"
   ]
  },
  {
   "cell_type": "code",
   "execution_count": 18,
   "metadata": {},
   "outputs": [
    {
     "name": "stdout",
     "output_type": "stream",
     "text": [
      "<class 'pandas.core.frame.DataFrame'>\n",
      "RangeIndex: 9769 entries, 0 to 9768\n",
      "Data columns (total 16 columns):\n",
      " #   Column           Non-Null Count  Dtype \n",
      "---  ------           --------------  ----- \n",
      " 0   Unnamed: 0       9769 non-null   int64 \n",
      " 1   age              9769 non-null   int64 \n",
      " 2   workclass        9192 non-null   object\n",
      " 3   fnlwgt           9769 non-null   int64 \n",
      " 4   education        9769 non-null   object\n",
      " 5   education-num    9769 non-null   int64 \n",
      " 6   marital-status   9769 non-null   object\n",
      " 7   occupation       9189 non-null   object\n",
      " 8   relationship     9769 non-null   object\n",
      " 9   race             9769 non-null   object\n",
      " 10  sex              9769 non-null   object\n",
      " 11  capital-gain     9769 non-null   int64 \n",
      " 12  capital-loss     9769 non-null   int64 \n",
      " 13  hours-per-week   9769 non-null   int64 \n",
      " 14  native-country   9587 non-null   object\n",
      " 15  income-per-year  9769 non-null   object\n",
      "dtypes: int64(7), object(9)\n",
      "memory usage: 1.2+ MB\n",
      "None\n"
     ]
    }
   ],
   "source": [
    "print(df.info())"
   ]
  },
  {
   "cell_type": "markdown",
   "metadata": {},
   "source": [
    "## Create statements from source CSV file"
   ]
  },
  {
   "cell_type": "code",
   "execution_count": 3,
   "metadata": {},
   "outputs": [],
   "source": [
    "import sqlalchemy\n",
    "from sqlalchemy import create_engine\n",
    "import pandas as pd"
   ]
  },
  {
   "cell_type": "code",
   "execution_count": 29,
   "metadata": {},
   "outputs": [],
   "source": [
    "def _create_table_code(data_frame, table_name, db_path, add_mlwhatif_serial, index_col):\n",
    "    \n",
    "    # column names of dataframe\n",
    "    col_names = [x for x in data_frame.columns.values if x != \"index-mlwhatif\"]\n",
    "\n",
    "    if \"index-mlwhatif\" in data_frame.columns.values:\n",
    "        col_names.append(\"index-mlwhatif\")\n",
    "\n",
    "    # DROP statement\n",
    "    drop_old_table = f\"DROP TABLE IF EXISTS {table_name};\"\n",
    "    \n",
    "    # set the duckdb engine\n",
    "    engine_str = \"duckdb:///\" + db_path\n",
    "    duckdb_engine = create_engine(engine_str)\n",
    "    \n",
    "    # CREATE statements\n",
    "    create_statements = []\n",
    "    \n",
    "    # get the schema for the duckdb database\n",
    "    schema = pd.io.sql.get_schema(data_frame, name=table_name, con=duckdb_engine)\n",
    "    \n",
    "    # add serial id column\n",
    "    new_column_id1 = \"CREATE SEQUENCE index-mlwhatif-seq START 1;\"\n",
    "    new_column_id2 = \"\\\"index-mlwhatif\\\" INTEGER PRIMARY KEY DEFAULT NEXTVAL('index-mlwhatif-seq')\"\n",
    "    \n",
    "    # alter index column name to 'index-mlwhatif'\n",
    "    alter_column_idx = f\"ALTER TABLE {table_name} RENAME COLUMN '{index_col}' TO 'index-mlwhatif';\"\n",
    "\n",
    "    statement = schema.rstrip()[:-1]\n",
    "\n",
    "    new_create_statement = statement.rstrip() + ',\\n\\t' + new_column_id2 + '\\n)'\n",
    "    \n",
    "    if add_mlwhatif_serial and index_col == -1:\n",
    "        create_statements = [new_column_id1, new_create_statement]\n",
    "    elif add_mlwhatif_serial and index_col != -1:\n",
    "        create_statements = [schema, alter_column_idx]\n",
    "    else: \n",
    "        create_statements = [schema]\n",
    "        \n",
    "    return col_names, drop_old_table, create_statements\n",
    "\n"
   ]
  },
  {
   "cell_type": "code",
   "execution_count": 30,
   "metadata": {},
   "outputs": [],
   "source": [
    "data_frame = pd.read_csv('adult_test.csv', index_col=None)\n",
    "db_path = 'my_duckdb'"
   ]
  },
  {
   "cell_type": "code",
   "execution_count": 31,
   "metadata": {},
   "outputs": [
    {
     "name": "stdout",
     "output_type": "stream",
     "text": [
      "Columns of the dataframe are: ['Unnamed: 0', 'age', 'workclass', 'fnlwgt', 'education', 'education-num', 'marital-status', 'occupation', 'relationship', 'race', 'sex', 'capital-gain', 'capital-loss', 'hours-per-week', 'native-country', 'income-per-year']\n",
      "\n",
      "Drop table statement: DROP TABLE IF EXISTS test;\n",
      "\n",
      "Create table statements:\n",
      "CREATE SEQUENCE index-mlwhatif-seq START 1;\n",
      "\n",
      "CREATE TABLE test (\n",
      "\t\"Unnamed: 0\" BIGINT, \n",
      "\tage BIGINT, \n",
      "\tworkclass TEXT, \n",
      "\tfnlwgt BIGINT, \n",
      "\teducation TEXT, \n",
      "\t\"education-num\" BIGINT, \n",
      "\t\"marital-status\" TEXT, \n",
      "\toccupation TEXT, \n",
      "\trelationship TEXT, \n",
      "\trace TEXT, \n",
      "\tsex TEXT, \n",
      "\t\"capital-gain\" BIGINT, \n",
      "\t\"capital-loss\" BIGINT, \n",
      "\t\"hours-per-week\" BIGINT, \n",
      "\t\"native-country\" TEXT, \n",
      "\t\"income-per-year\" TEXT,\n",
      "\t\"index-mlwhatif\" INTEGER PRIMARY KEY DEFAULT NEXTVAL('index-mlwhatif-seq')\n",
      ")\n"
     ]
    }
   ],
   "source": [
    "# add_mlwhatif_serial and index_col == -1\n",
    "col_names, drop_old_table, create_statements = _create_table_code(data_frame, 'test', db_path, True, -1)\n",
    "print(f\"Columns of the dataframe are: {col_names}\\n\")\n",
    "print(f\"Drop table statement: {drop_old_table}\\n\")\n",
    "print(\"Create table statements:\")\n",
    "for statement in create_statements:\n",
    "    print(statement)"
   ]
  },
  {
   "cell_type": "code",
   "execution_count": 32,
   "metadata": {},
   "outputs": [
    {
     "name": "stdout",
     "output_type": "stream",
     "text": [
      "Columns of the dataframe are: ['Unnamed: 0', 'age', 'workclass', 'fnlwgt', 'education', 'education-num', 'marital-status', 'occupation', 'relationship', 'race', 'sex', 'capital-gain', 'capital-loss', 'hours-per-week', 'native-country', 'income-per-year']\n",
      "\n",
      "Drop table statement: DROP TABLE IF EXISTS test;\n",
      "\n",
      "Create table statements:\n",
      "\n",
      "CREATE TABLE test (\n",
      "\t\"Unnamed: 0\" BIGINT, \n",
      "\tage BIGINT, \n",
      "\tworkclass TEXT, \n",
      "\tfnlwgt BIGINT, \n",
      "\teducation TEXT, \n",
      "\t\"education-num\" BIGINT, \n",
      "\t\"marital-status\" TEXT, \n",
      "\toccupation TEXT, \n",
      "\trelationship TEXT, \n",
      "\trace TEXT, \n",
      "\tsex TEXT, \n",
      "\t\"capital-gain\" BIGINT, \n",
      "\t\"capital-loss\" BIGINT, \n",
      "\t\"hours-per-week\" BIGINT, \n",
      "\t\"native-country\" TEXT, \n",
      "\t\"income-per-year\" TEXT\n",
      ")\n",
      "\n",
      "\n",
      "ALTER TABLE test RENAME COLUMN 'Unnamed: 0' TO 'index-mlwhatif';\n"
     ]
    }
   ],
   "source": [
    "# add_mlwhatif_serial and index_col != -1\n",
    "col_names, drop_old_table, create_statements = _create_table_code(data_frame, 'test', db_path, True, 'Unnamed: 0')\n",
    "print(f\"Columns of the dataframe are: {col_names}\\n\")\n",
    "print(f\"Drop table statement: {drop_old_table}\\n\")\n",
    "print(\"Create table statements:\")\n",
    "for statement in create_statements:\n",
    "    print(statement)"
   ]
  },
  {
   "cell_type": "code",
   "execution_count": 37,
   "metadata": {},
   "outputs": [
    {
     "name": "stdout",
     "output_type": "stream",
     "text": [
      "Columns of the dataframe are: ['Unnamed: 0', 'age', 'workclass', 'fnlwgt', 'education', 'education-num', 'marital-status', 'occupation', 'relationship', 'race', 'sex', 'capital-gain', 'capital-loss', 'hours-per-week', 'native-country', 'income-per-year']\n",
      "\n",
      "Drop table statement: DROP TABLE IF EXISTS test;\n",
      "\n",
      "Create table statements:\n",
      "\n",
      "CREATE TABLE test (\n",
      "\t\"Unnamed: 0\" BIGINT, \n",
      "\tage BIGINT, \n",
      "\tworkclass TEXT, \n",
      "\tfnlwgt BIGINT, \n",
      "\teducation TEXT, \n",
      "\t\"education-num\" BIGINT, \n",
      "\t\"marital-status\" TEXT, \n",
      "\toccupation TEXT, \n",
      "\trelationship TEXT, \n",
      "\trace TEXT, \n",
      "\tsex TEXT, \n",
      "\t\"capital-gain\" BIGINT, \n",
      "\t\"capital-loss\" BIGINT, \n",
      "\t\"hours-per-week\" BIGINT, \n",
      "\t\"native-country\" TEXT, \n",
      "\t\"income-per-year\" TEXT\n",
      ")\n",
      "\n",
      "\n"
     ]
    }
   ],
   "source": [
    "# add_mlwhatif_serial and index_col != -1\n",
    "col_names, drop_old_table, create_statements = _create_table_code(data_frame, 'test', db_path, False, 'Unnamed: 0')\n",
    "print(f\"Columns of the dataframe are: {col_names}\\n\")\n",
    "print(f\"Drop table statement: {drop_old_table}\\n\")\n",
    "print(\"Create table statements:\")\n",
    "for statement in create_statements:\n",
    "    print(statement)"
   ]
  },
  {
   "cell_type": "code",
   "execution_count": 64,
   "metadata": {},
   "outputs": [],
   "source": [
    "def get_sql_code_csv(path_to_csv, table_name, null_symbols=None, delimiter=\",\", header=True,\n",
    "                         drop_old=False, add_mlwhatif_serial=False, index_col=-1):\n",
    "\n",
    "    if null_symbols is None:\n",
    "        null_symbols = [\"?\"]\n",
    "\n",
    "    data_frame = pd.read_csv(path_to_csv, index_col=None, header=0, encoding='utf-8')\n",
    "\n",
    "    names, drop_old_table, create_table = _create_table_code(data_frame, table_name, db_path,\n",
    "                                                            add_mlwhatif_serial,\n",
    "                                                            index_col=index_col)\n",
    "\n",
    "    if len(null_symbols) != 1:\n",
    "        raise NotImplementedError(\"Currently only ONE null symbol supported!\")\n",
    "\n",
    "    add_data = f\"COPY {table_name} \" \\\n",
    "                f\"FROM '{path_to_csv}' (\" \\\n",
    "                f\"DELIMITER '{delimiter}', NULL '{null_symbols[0]}', FORMAT CSV, HEADER {'TRUE' if header else 'FALSE'});\"\n",
    "\n",
    "    if drop_old:\n",
    "        return [drop_old_table] + create_table + [add_data]\n",
    "    \n",
    "    return names, create_table + [add_data]"
   ]
  },
  {
   "cell_type": "code",
   "execution_count": 65,
   "metadata": {},
   "outputs": [],
   "source": [
    "path_to_csv = 'adult_test.csv'\n",
    "table_name = 'test'"
   ]
  },
  {
   "cell_type": "code",
   "execution_count": 66,
   "metadata": {},
   "outputs": [
    {
     "name": "stdout",
     "output_type": "stream",
     "text": [
      "['Unnamed: 0', 'age', 'workclass', 'fnlwgt', 'education', 'education-num', 'marital-status', 'occupation', 'relationship', 'race', 'sex', 'capital-gain', 'capital-loss', 'hours-per-week', 'native-country', 'income-per-year']\n",
      "\n",
      "CREATE TABLE test (\n",
      "\t\"Unnamed: 0\" BIGINT, \n",
      "\tage BIGINT, \n",
      "\tworkclass TEXT, \n",
      "\tfnlwgt BIGINT, \n",
      "\teducation TEXT, \n",
      "\t\"education-num\" BIGINT, \n",
      "\t\"marital-status\" TEXT, \n",
      "\toccupation TEXT, \n",
      "\trelationship TEXT, \n",
      "\trace TEXT, \n",
      "\tsex TEXT, \n",
      "\t\"capital-gain\" BIGINT, \n",
      "\t\"capital-loss\" BIGINT, \n",
      "\t\"hours-per-week\" BIGINT, \n",
      "\t\"native-country\" TEXT, \n",
      "\t\"income-per-year\" TEXT\n",
      ")\n",
      "\n",
      "\n",
      "COPY test FROM 'adult_test.csv' (DELIMITER ',', NULL '?', FORMAT CSV, HEADER TRUE);\n"
     ]
    }
   ],
   "source": [
    "names, statements = get_sql_code_csv(path_to_csv, table_name)\n",
    "print(names)\n",
    "for statement in statements: \n",
    "    print(statement)"
   ]
  },
  {
   "cell_type": "markdown",
   "metadata": {},
   "source": [
    "## Transform"
   ]
  },
  {
   "cell_type": "code",
   "execution_count": null,
   "metadata": {},
   "outputs": [],
   "source": [
    "def get_unique_id(self):\n",
    "        self.id += 1\n",
    "        return self.id - 1"
   ]
  },
  {
   "cell_type": "code",
   "execution_count": null,
   "metadata": {},
   "outputs": [],
   "source": [
    "def simple_imputer(table, column_name, mode):\n",
    "    table_name = f\"block_impute_fit_{get_unique_id()}_most_frequent\"\n",
    "    if mode == 'max':\n",
    "        sql_code = f\"WITH counts_help AS (\\n\" \\\n",
    "                   f\"\\tSELECT {column_name}, COUNT(*) AS count\\n\" \\\n",
    "                   f\"\\tFROM {table} \\n\" \\\n",
    "                   f\"\\tGROUP BY {column_name}\\n\" \\\n",
    "                   f\")\\n\" \\\n",
    "                   f\"SELECT {column_name} AS most_frequent \\n\" \\\n",
    "                   f\"FROM counts_help\\n\" \\\n",
    "                   f\"WHERE counts_help.count = (SELECT MAX(count) FROM counts_help)\\n\" \\\n",
    "                   f\"LIMIT 1\"\n",
    "    elif mode == 'mean':\n",
    "        table_name = f\"block_impute_fit_{self.get_unique_id()}_mean\"\n",
    "        sql_code = f\"SELECT (SELECT AVG({column_name}) FROM {table}) AS {column_name}\"\n",
    "    elif mode == 'one_hot_encoding':\n",
    "        table_name = f\"block_one_hot_fit_{self.get_unique_id()}\"\n",
    "        sql_code = f\"SELECT {col}, \\n\" \\\n",
    "                   f\"(array_fill(0, ARRAY[\\\"rank\\\" - 1]) || 1 ) || \" \\\n",
    "                   f\"array_fill(0, ARRAY[ CAST((select COUNT(distinct({col})) FROM {table}) AS int) - \" \\\n",
    "                   f\"(\\\"rank\\\")]) AS {col[:-1]}_one_hot\\\" \\n\" \\\n",
    "                   f\"\\tFROM (\\n\" \\\n",
    "                   f\"\\tSELECT {col}, CAST(ROW_NUMBER() OVER() AS int) AS \\\"rank\\\" \\n\" \\\n",
    "                   f\"\\tFROM (SELECT distinct({col}) FROM {table}) oh\\n\" \\\n",
    "                   f\") one_hot_help\"   \n",
    "        \n",
    "    block_name, sql_code = self.wrap_in_sql_obj(sql_code, block_name=table_name)\n",
    "    return self.materialize_if_possible(block_name, sql_code)"
   ]
  }
 ],
 "metadata": {
  "kernelspec": {
   "display_name": "my_thesis",
   "language": "python",
   "name": "python3"
  },
  "language_info": {
   "codemirror_mode": {
    "name": "ipython",
    "version": 3
   },
   "file_extension": ".py",
   "mimetype": "text/x-python",
   "name": "python",
   "nbconvert_exporter": "python",
   "pygments_lexer": "ipython3",
   "version": "3.11.6"
  }
 },
 "nbformat": 4,
 "nbformat_minor": 2
}
